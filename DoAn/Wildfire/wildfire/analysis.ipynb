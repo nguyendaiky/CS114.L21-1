{
 "cells": [
  {
   "cell_type": "code",
   "execution_count": 1,
   "metadata": {},
   "outputs": [],
   "source": [
    "import pandas, numpy, seaborn"
   ]
  },
  {
   "cell_type": "code",
   "execution_count": 2,
   "metadata": {},
   "outputs": [],
   "source": [
    "wildfire = pandas.read_csv('data.csv')"
   ]
  },
  {
   "cell_type": "code",
   "execution_count": 3,
   "metadata": {},
   "outputs": [
    {
     "name": "stdout",
     "output_type": "stream",
     "text": [
      "<class 'pandas.core.frame.DataFrame'>\n",
      "RangeIndex: 997218 entries, 0 to 997217\n",
      "Data columns (total 6 columns):\n",
      " #   Column    Non-Null Count   Dtype  \n",
      "---  ------    --------------   -----  \n",
      " 0   date      997218 non-null  object \n",
      " 1   province  997218 non-null  object \n",
      " 2   district  997218 non-null  object \n",
      " 3   ward      997218 non-null  object \n",
      " 4   long      997218 non-null  float64\n",
      " 5   lat       997218 non-null  float64\n",
      "dtypes: float64(2), object(4)\n",
      "memory usage: 45.6+ MB\n"
     ]
    }
   ],
   "source": [
    "wildfire.info()"
   ]
  },
  {
   "cell_type": "code",
   "execution_count": 4,
   "metadata": {},
   "outputs": [
    {
     "data": {
      "text/html": [
       "<div>\n",
       "<style scoped>\n",
       "    .dataframe tbody tr th:only-of-type {\n",
       "        vertical-align: middle;\n",
       "    }\n",
       "\n",
       "    .dataframe tbody tr th {\n",
       "        vertical-align: top;\n",
       "    }\n",
       "\n",
       "    .dataframe thead th {\n",
       "        text-align: right;\n",
       "    }\n",
       "</style>\n",
       "<table border=\"1\" class=\"dataframe\">\n",
       "  <thead>\n",
       "    <tr style=\"text-align: right;\">\n",
       "      <th></th>\n",
       "      <th>long</th>\n",
       "      <th>lat</th>\n",
       "    </tr>\n",
       "  </thead>\n",
       "  <tbody>\n",
       "    <tr>\n",
       "      <th>count</th>\n",
       "      <td>997218.000000</td>\n",
       "      <td>997218.000000</td>\n",
       "    </tr>\n",
       "    <tr>\n",
       "      <th>mean</th>\n",
       "      <td>106.310183</td>\n",
       "      <td>15.550513</td>\n",
       "    </tr>\n",
       "    <tr>\n",
       "      <th>std</th>\n",
       "      <td>1.988784</td>\n",
       "      <td>4.329136</td>\n",
       "    </tr>\n",
       "    <tr>\n",
       "      <th>min</th>\n",
       "      <td>102.149590</td>\n",
       "      <td>8.564512</td>\n",
       "    </tr>\n",
       "    <tr>\n",
       "      <th>25%</th>\n",
       "      <td>104.825000</td>\n",
       "      <td>11.988500</td>\n",
       "    </tr>\n",
       "    <tr>\n",
       "      <th>50%</th>\n",
       "      <td>106.897970</td>\n",
       "      <td>14.093000</td>\n",
       "    </tr>\n",
       "    <tr>\n",
       "      <th>75%</th>\n",
       "      <td>107.985610</td>\n",
       "      <td>20.945000</td>\n",
       "    </tr>\n",
       "    <tr>\n",
       "      <th>max</th>\n",
       "      <td>109.457030</td>\n",
       "      <td>23.385000</td>\n",
       "    </tr>\n",
       "  </tbody>\n",
       "</table>\n",
       "</div>"
      ],
      "text/plain": [
       "                long            lat\n",
       "count  997218.000000  997218.000000\n",
       "mean      106.310183      15.550513\n",
       "std         1.988784       4.329136\n",
       "min       102.149590       8.564512\n",
       "25%       104.825000      11.988500\n",
       "50%       106.897970      14.093000\n",
       "75%       107.985610      20.945000\n",
       "max       109.457030      23.385000"
      ]
     },
     "execution_count": 4,
     "metadata": {},
     "output_type": "execute_result"
    }
   ],
   "source": [
    "wildfire.describe()"
   ]
  },
  {
   "cell_type": "code",
   "execution_count": 5,
   "metadata": {},
   "outputs": [
    {
     "data": {
      "text/plain": [
       "date          3702\n",
       "province        63\n",
       "district       681\n",
       "ward          6621\n",
       "long        149413\n",
       "lat         170486\n",
       "dtype: int64"
      ]
     },
     "execution_count": 5,
     "metadata": {},
     "output_type": "execute_result"
    }
   ],
   "source": [
    "wildfire.nunique()"
   ]
  },
  {
   "cell_type": "code",
   "execution_count": 6,
   "metadata": {},
   "outputs": [
    {
     "data": {
      "text/plain": [
       "array(['Bắc Giang', 'Lào Cai', 'Sóc Trăng', 'Sơn La', 'Bạc Liêu',\n",
       "       'Bình Dương', 'Hà Tĩnh', 'Quảng Ninh', 'Quảng Nam', 'Tây Ninh',\n",
       "       'Lâm Đồng', 'Ninh Thuận', 'Bình Phước', 'Bình Định', 'Thái Nguyên',\n",
       "       'Hà Nam', 'Hà Nội', 'Thanh Hoá', 'Hải Dương', 'Cần Thơ',\n",
       "       'Tuyên Quang', 'Tiền Giang', 'Lạng Sơn', 'Đà Nẵng', 'Long An',\n",
       "       'Đồng Nai', 'Điện Biên', 'Gia Lai', 'Lai Châu', 'Kiên Giang',\n",
       "       'Hồ Chí Minh', 'Bà Rịa-Vũng Tàu', 'Phú Yên', 'Quảng Bình',\n",
       "       'Quảng Trị', 'Khánh Hòa', 'Thừa Thiên Huế', 'Bình Thuận',\n",
       "       'Kon Tum', 'Quảng Ngãi', 'Đắk Lắk', 'Đồng Tháp', 'Nghệ An',\n",
       "       'Đắk Nông', 'An Giang', 'Vĩnh Long', 'Bến Tre', 'Hòa Bình',\n",
       "       'Cao Bằng', 'Bắc Kạn', 'Yên Bái', 'Hà Giang', 'Ninh Bình',\n",
       "       'Phú Thọ', 'Vĩnh Phúc', 'Bắc Ninh', 'Hưng Yên', 'Nam Định',\n",
       "       'Cà Mau', 'Hậu Giang', 'Hải Phòng', 'Thái Bình', 'Trà Vinh'],\n",
       "      dtype=object)"
      ]
     },
     "execution_count": 6,
     "metadata": {},
     "output_type": "execute_result"
    }
   ],
   "source": [
    "wildfire['province'].unique()"
   ]
  },
  {
   "cell_type": "code",
   "execution_count": 12,
   "metadata": {},
   "outputs": [
    {
     "data": {
      "text/plain": [
       "province\n",
       "Gia Lai      109950\n",
       "Điện Biên    103178\n",
       "Kon Tum       86203\n",
       "Đắk Lắk       85827\n",
       "Sơn La        73926\n",
       "              ...  \n",
       "Hải Phòng       721\n",
       "Vĩnh Phúc       411\n",
       "Nam Định        338\n",
       "Thái Bình       260\n",
       "Hưng Yên        255\n",
       "Length: 63, dtype: int64"
      ]
     },
     "execution_count": 12,
     "metadata": {},
     "output_type": "execute_result"
    }
   ],
   "source": [
    "province_count = wildfire.groupby(['province']).size().sort_values(ascending=False)"
   ]
  },
  {
   "cell_type": "code",
   "execution_count": null,
   "metadata": {},
   "outputs": [],
   "source": []
  }
 ],
 "metadata": {
  "interpreter": {
   "hash": "05f67ca6b088aedcf9ce867f0104c3ffc4e723b9785bf95b0972f9b09ce6c081"
  },
  "kernelspec": {
   "display_name": "Python 3.7.10 64-bit ('ds': conda)",
   "name": "python3"
  },
  "language_info": {
   "codemirror_mode": {
    "name": "ipython",
    "version": 3
   },
   "file_extension": ".py",
   "mimetype": "text/x-python",
   "name": "python",
   "nbconvert_exporter": "python",
   "pygments_lexer": "ipython3",
   "version": "3.7.10"
  },
  "orig_nbformat": 4
 },
 "nbformat": 4,
 "nbformat_minor": 2
}